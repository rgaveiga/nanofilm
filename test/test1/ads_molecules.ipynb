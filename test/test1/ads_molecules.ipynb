{
 "cells": [
  {
   "cell_type": "markdown",
   "metadata": {},
   "source": [
    "## Adsorbing and manipulating molecules onto graphene"
   ]
  },
  {
   "cell_type": "code",
   "execution_count": 1,
   "metadata": {},
   "outputs": [],
   "source": [
    "from nanofilm import AtomType,Atom,Molecule,Slab,Film   # Imports NanoFilm's modules"
   ]
  },
  {
   "cell_type": "markdown",
   "metadata": {},
   "source": [
    "#### Sets the AtomType objects (specifiying the pseudpotential files for later use in ab initio calculations)"
   ]
  },
  {
   "cell_type": "code",
   "execution_count": 2,
   "metadata": {},
   "outputs": [],
   "source": [
    "hydrogen=AtomType(symbol=\"H\",element=\"hydrogen\",atomicnumber=1,atomicmass=1.007,pseudopotential=\"H.pbe.UPF\")\n",
    "carbon=AtomType(\"C\",\"carbon\",6,12.0107,\"C.pbe.UPF\")"
   ]
  },
  {
   "cell_type": "markdown",
   "metadata": {},
   "source": [
    "#### Creates first H2 molecule from scratch"
   ]
  },
  {
   "cell_type": "code",
   "execution_count": 3,
   "metadata": {},
   "outputs": [],
   "source": [
    "mol1=Molecule(moltype=\"H2\")                    # H2 molecule, initially empty (no atoms)\n",
    "h1=Atom(atomtype=hydrogen,x=[-0.44,0.0,0.0])   # First H atom\n",
    "h2=h1.duplicate_atom()                         # Second H atom\n",
    "h2.x=[0.44,0.0,0.0]                            # Changes the coordinates of the second H atom\n",
    "mol1.add_atom(h1)                              # Adds the first H atom to the molecule\n",
    "mol1.add_atom(h2)                              # Adds the second H atom to the molecule"
   ]
  },
  {
   "cell_type": "markdown",
   "metadata": {},
   "source": [
    "#### Creates the substrate (Slab object) taking the coordinates from an .xyz file"
   ]
  },
  {
   "cell_type": "code",
   "execution_count": 4,
   "metadata": {},
   "outputs": [],
   "source": [
    "slab=Slab(slabname=\"graphene\",filename=\"graphene.xyz\")   # Slab object (in this case, graphene unit cell, with coordinates\n",
    "                                                         # taken from an XYZ file)\n",
    "slab.add_ads_site(ads_site=\"top\",pos=[1.23,0.0])         # Defines the first adsorption site (\"top\")\n",
    "slab.add_ads_site(\"hollow\",[1.23,1.41])                  # Defines the second adsorption site (\"hollow\")            \n",
    "slab.add_ads_site(\"bridge\",[0,1.42])                     # Defines the third adsorption site (\"bridge\")\n",
    "slab.replicate_slab(4,3,True)                            # Replicates the slab in the XY plane, including the adsorption sites"
   ]
  },
  {
   "cell_type": "markdown",
   "metadata": {},
   "source": [
    "#### Adsorbs the H2 molecule over a \"hollow\" site on the substrate (creating first a Film object)"
   ]
  },
  {
   "cell_type": "code",
   "execution_count": 5,
   "metadata": {},
   "outputs": [],
   "source": [
    "film=Film()                                        # Initially empty Film object\n",
    "film.mindistance=0.75                              # Minimum separation between the molecule and the substrate\n",
    "film.set_substrate(slab)                           # Sets graphene as the substrate\n",
    "film.add_molecule(mol1,\"hollow\",8,vert_sep=0.75)   # Places the H2 molecule over the eighth \"hollow\" site on the substrate\n",
    "film.write_xyz(\"film1.xyz\")                        # Writes an XYZ file\n",
    "film.write_pw_input(filename='film1.in',\n",
    "                    ecutwfc=22.0,ecutrho=88.0,\n",
    "                    nspin=2,input_dft='vdw-df',\n",
    "                    kvec=[4,4,4,0,0,0])            # Creates a basic input file for pw.x from Quantum Espresso package"
   ]
  },
  {
   "cell_type": "markdown",
   "metadata": {},
   "source": [
    "#### Rotates the H2 molecule and enforces a minimum distance from the substrate to prevent overlap"
   ]
  },
  {
   "cell_type": "code",
   "execution_count": 6,
   "metadata": {},
   "outputs": [],
   "source": [
    "mol1.rotate_molecule(theta=90,phi=45,psi=0)   # Rotates the H2 molecule according to the Euler angles theta, phi, and psi\n",
    "film.enforce_mindist()                        # Required to enforce that the molecule will not be too close to the substrate\n",
    "film.write_xyz(\"film2.xyz\")\n",
    "film.write_pw_input(filename='film2.in',\n",
    "                    ecutwfc=22.0,ecutrho=88.0,\n",
    "                    nspin=2,input_dft='vdw-df',\n",
    "                    kvec=[4,4,4,0,0,0])"
   ]
  },
  {
   "cell_type": "markdown",
   "metadata": {},
   "source": [
    "#### Duplicates the H2 molecule, placing it over the seventh \"top\" site on the substrate"
   ]
  },
  {
   "cell_type": "code",
   "execution_count": 7,
   "metadata": {},
   "outputs": [],
   "source": [
    "mol2=mol1.duplicate_molecule()\n",
    "film.add_molecule(mol2,\"top\",7,vert_sep=1.0)   # Places the second H2 molecule over the first \"top\" site on the substrate\n",
    "mol2.rotate_molecule(theta=15,phi=30,psi=45)   # Rotates the second H2 molecule\n",
    "film.enforce_mindist()\n",
    "film.write_xyz(\"film3.xyz\")\n",
    "film.write_pw_input(filename='film3.in',\n",
    "                    ecutwfc=22.0,ecutrho=88.0,\n",
    "                    nspin=2,input_dft='vdw-df',\n",
    "                    kvec=[4,4,4,0,0,0])"
   ]
  },
  {
   "cell_type": "markdown",
   "metadata": {},
   "source": [
    "#### Removes both H2 molecules and adsorbs a benzene molecule at an arbitrary position on the substrate"
   ]
  },
  {
   "cell_type": "code",
   "execution_count": 8,
   "metadata": {},
   "outputs": [],
   "source": [
    "film.remove_molecule(0)                               # Removes the first H2 molecule, with id=0\n",
    "film.remove_molecule(1)                               # Removes the second H2 molecule, with id=1\n",
    "mol3=Molecule(\"Benzene\",\"benzene.xyz\")                # Benzene molecule (coordinates taken from an XYZ file)\n",
    "film.mindistance=2.0                                  # Redefines the minimum molecule-substrate separation\n",
    "film.add_molecule(mol3,pos=[2.12,4.07],vert_sep=2.0)  # Benzene molecule is placed at an arbitrary location\n",
    "film.write_xyz(\"film4.xyz\")\n",
    "film.write_pw_input(filename='film4.in',\n",
    "                    ecutwfc=22.0,ecutrho=88.0,\n",
    "                    nspin=2,input_dft='vdw-df',\n",
    "                    kvec=[4,4,4,0,0,0])"
   ]
  },
  {
   "cell_type": "markdown",
   "metadata": {},
   "source": [
    "#### Rotates the benzene molecule and demonstrates how to prevent molecule-substrate spurious overlap"
   ]
  },
  {
   "cell_type": "code",
   "execution_count": 9,
   "metadata": {},
   "outputs": [],
   "source": [
    "mol3.rotate_molecule(30,30,30)\n",
    "film.write_xyz(\"film5.xyz\")\n",
    "film.write_pw_input(filename='film5.in',\n",
    "                    ecutwfc=22.0,ecutrho=88.0,\n",
    "                    nspin=2,input_dft='vdw-df',\n",
    "                    kvec=[4,4,4,0,0,0])          # Since the molecule overlaps with the substrate, you will likely to \n",
    "                                                 # have problems if you try to run pw.x with this input file\n",
    "film.enforce_mindist()\n",
    "film.write_xyz(\"film6.xyz\")\n",
    "film.write_pw_input(filename='film6.in',\n",
    "                    ecutwfc=22.0,ecutrho=88.0,\n",
    "                    nspin=2,input_dft='vdw-df',\n",
    "                    kvec=[4,4,4,0,0,0])          # This input file, in turn, should work fine, since a minimum distance \n",
    "                                                 # separating the molecule and the substrate was enforced"
   ]
  },
  {
   "cell_type": "markdown",
   "metadata": {},
   "source": [
    "#### Makes a copy of the benzene molecule, places it over the seventh \"bridge\" site and then displaces it"
   ]
  },
  {
   "cell_type": "code",
   "execution_count": 10,
   "metadata": {},
   "outputs": [],
   "source": [
    "mol4=mol3.duplicate_molecule()\n",
    "film.add_molecule(mol4,\"bridge\",7,vert_sep=2.0)\n",
    "film.write_xyz(\"film7.xyz\")\n",
    "film.write_pw_input(filename='film7.in',\n",
    "                    ecutwfc=22.0,ecutrho=88.0,\n",
    "                    nspin=2,input_dft='vdw-df',\n",
    "                    kvec=[4,4,4,0,0,0])\n",
    "mol4.displace_molecule([1.0,1.5,-5.0])\n",
    "film.write_xyz(\"film8.xyz\")\n",
    "film.write_pw_input(filename='film8.in',\n",
    "                    ecutwfc=22.0,ecutrho=88.0,\n",
    "                    nspin=2,input_dft='vdw-df',\n",
    "                    kvec=[4,4,4,0,0,0])          # Since the molecule overlaps with the substrate, you will likely to \n",
    "                                                 # have problems if you try to run pw.x with this input file\n",
    "film.enforce_mindist()\n",
    "film.write_xyz(\"film9.xyz\")                      \n",
    "film.write_pw_input(filename='film9.in',\n",
    "                    ecutwfc=22.0,ecutrho=88.0,\n",
    "                    nspin=2,input_dft='vdw-df',\n",
    "                    kvec=[4,4,4,0,0,0])          # This input file, in turn, should work fine, since a minimum distance \n",
    "                                                 # separating the molecule and the substrate was enforced"
   ]
  },
  {
   "cell_type": "markdown",
   "metadata": {},
   "source": [
    "#### Replicates the slab and adds a TCNQ molecule, placing it over the \"top\" site 16"
   ]
  },
  {
   "cell_type": "code",
   "execution_count": 11,
   "metadata": {},
   "outputs": [],
   "source": [
    "slab.replicate_slab(2,1,True)                 # Replicates the slab along X direction, including the adsorption sites\n",
    "nitrogen=AtomType(\"N\",\"nitrogen\",16,14.0067)  # Create a new AtomType object, for nitrogen, since TCNQ has nitrogen in \n",
    "                                              # its composition\n",
    "mol5=Molecule(\"TCNQ\",\"tcnq.xyz\")              # TCNQ molecule (coordinates taken from an XYZ file)\n",
    "film.add_molecule(mol5,\"top\",16,vert_sep=3)\n",
    "mol5.rotate_molecule(psi=90)                  # Rotates the molecule by 90 degrees around the Z axis\n",
    "film.write_xyz(\"film10.xyz\")\n",
    "film.write_pw_input(filename='film10.in',\n",
    "                    ecutwfc=22.0,ecutrho=88.0,\n",
    "                    nspin=2,input_dft='vdw-df',\n",
    "                    kvec=[4,4,4,0,0,0])"
   ]
  },
  {
   "cell_type": "code",
   "execution_count": null,
   "metadata": {},
   "outputs": [],
   "source": []
  }
 ],
 "metadata": {
  "kernelspec": {
   "display_name": "Python 3",
   "language": "python",
   "name": "python3"
  },
  "language_info": {
   "codemirror_mode": {
    "name": "ipython",
    "version": 3
   },
   "file_extension": ".py",
   "mimetype": "text/x-python",
   "name": "python",
   "nbconvert_exporter": "python",
   "pygments_lexer": "ipython3",
   "version": "3.7.6"
  }
 },
 "nbformat": 4,
 "nbformat_minor": 4
}
