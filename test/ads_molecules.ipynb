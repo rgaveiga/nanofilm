{
 "cells": [
  {
   "cell_type": "markdown",
   "metadata": {},
   "source": [
    "## Adsorbing and manipulating molecules onto graphene"
   ]
  },
  {
   "cell_type": "code",
   "execution_count": 1,
   "metadata": {},
   "outputs": [],
   "source": [
    "from nanofilm import AtomType,Atom,Molecule,Slab,Film   # Imports NanoFilm's modules"
   ]
  },
  {
   "cell_type": "markdown",
   "metadata": {},
   "source": [
    "#### Sets the AtomType objects"
   ]
  },
  {
   "cell_type": "code",
   "execution_count": 2,
   "metadata": {},
   "outputs": [],
   "source": [
    "hydrogen=AtomType(\"H\",\"hydrogen\",1,1.007)\n",
    "carbon=AtomType(\"C\",\"carbon\",6,12.0107)"
   ]
  },
  {
   "cell_type": "markdown",
   "metadata": {},
   "source": [
    "#### Creates first H2 molecule from scratch"
   ]
  },
  {
   "cell_type": "code",
   "execution_count": 3,
   "metadata": {},
   "outputs": [],
   "source": [
    "mol1=Molecule(\"H2\")                 # H2 molecule, initially empty (no atoms)\n",
    "h1=Atom(hydrogen,[-0.44,0.0,0.0])   # First H atom\n",
    "h2=h1.duplicate_atom()              # Second H atom\n",
    "h2.x=[0.44,0.0,0.0]                 # Changes the coordinates of the second H atom\n",
    "mol1.add_atom(h1)                   # Adds the first H atom to the molecule\n",
    "mol1.add_atom(h2)                   # Adds the second H atom to the molecule"
   ]
  },
  {
   "cell_type": "markdown",
   "metadata": {},
   "source": [
    "#### Creates the substrate (Slab object) taking the coordinates from an .xyz file"
   ]
  },
  {
   "cell_type": "code",
   "execution_count": 4,
   "metadata": {},
   "outputs": [],
   "source": [
    "slab=Slab(\"graphene\",\"graphene.xyz\")           # Slab object (in this case, graphene, with coordinates taken from an XYZ file)\n",
    "slab.replicate_slab(4,3)                       # Replicates the slab in the XY plane\n",
    "slab.add_ads_site(\"hollow\",[3.69,5.68128])     # First adsorption site\n",
    "slab.add_ads_site(\"top\",[4.92,4.97114])        # Second adsorption site"
   ]
  },
  {
   "cell_type": "markdown",
   "metadata": {},
   "source": [
    "#### Adsorbs the H2 molecule over the \"hollow\" site on the substrate (creating first a Film object)"
   ]
  },
  {
   "cell_type": "code",
   "execution_count": 5,
   "metadata": {},
   "outputs": [],
   "source": [
    "film=Film()\n",
    "film.mindistance=0.75                              # Minimum separation between the molecule and the substrate\n",
    "film.set_substrate(slab)                           # Sets graphene as the substrate\n",
    "film.add_molecule(mol1,\"hollow\",0,vert_sep=0.75)   # Places the H2 molecule over the first \"hollow\" site on the substrate\n",
    "film.write_xyz(\"film1.xyz\")"
   ]
  },
  {
   "cell_type": "markdown",
   "metadata": {},
   "source": [
    "#### Rotates the H2 molecule and enforces a minimum distance from the substrate to prevent overlap"
   ]
  },
  {
   "cell_type": "code",
   "execution_count": 6,
   "metadata": {},
   "outputs": [],
   "source": [
    "mol1.rotate_molecule(theta=90,phi=45,psi=0)   # Rotates the H2 molecule according to the Euler angles theta, phi, and psi\n",
    "film.enforce_mindist()                        # Required to enforce that the molecule will not be too close to the substrate\n",
    "film.write_xyz(\"film2.xyz\")"
   ]
  },
  {
   "cell_type": "markdown",
   "metadata": {},
   "source": [
    "#### Duplicates the H2 molecule, placing it over the \"top\" site on the substrate"
   ]
  },
  {
   "cell_type": "code",
   "execution_count": 7,
   "metadata": {},
   "outputs": [],
   "source": [
    "mol2=mol1.duplicate_molecule()\n",
    "film.add_molecule(mol2,\"top\",0,vert_sep=1.0)   # Places the second H2 molecule over the first \"top\" site on the substrate\n",
    "mol2.rotate_molecule(theta=15,phi=30,psi=45)   # Rotates the second H2 molecule\n",
    "film.enforce_mindist()\n",
    "film.write_xyz(\"film3.xyz\")"
   ]
  },
  {
   "cell_type": "markdown",
   "metadata": {},
   "source": [
    "#### Removes both H2 molecules and adsorbs a benzene molecule at an arbitrary position on the substrate"
   ]
  },
  {
   "cell_type": "code",
   "execution_count": 8,
   "metadata": {},
   "outputs": [],
   "source": [
    "film.remove_molecule(0)                               # Removes the first H2 molecule, with id=0\n",
    "film.remove_molecule(1)                               # Removes the second H2 molecule, with id=1\n",
    "mol3=Molecule(\"Benzene\",\"benzene.xyz\")                # Benzene molecule (coordinates taken from an .xyz file)\n",
    "film.mindistance=2.0                                  # Redefines the minimum molecule-substrate separation\n",
    "film.add_molecule(mol3,pos=[2.12,4.07],vert_sep=2.0)  # Benzene molecule is placed at an arbitrary location\n",
    "film.write_xyz(\"film4.xyz\")"
   ]
  },
  {
   "cell_type": "markdown",
   "metadata": {},
   "source": [
    "#### Rotates the benzene molecule and demonstrates how to prevent molecule-substrate spurious overlap"
   ]
  },
  {
   "cell_type": "code",
   "execution_count": 9,
   "metadata": {},
   "outputs": [],
   "source": [
    "mol3.rotate_molecule(30,30,30)\n",
    "film.write_xyz(\"film5.xyz\")\n",
    "film.enforce_mindist()\n",
    "film.write_xyz(\"film6.xyz\")"
   ]
  },
  {
   "cell_type": "markdown",
   "metadata": {},
   "source": [
    "#### Makes a copy of the benzene molecule, places it over the first \"top\" site and then displaces it"
   ]
  },
  {
   "cell_type": "code",
   "execution_count": 10,
   "metadata": {},
   "outputs": [],
   "source": [
    "mol4=mol3.duplicate_molecule()\n",
    "film.add_molecule(mol4,\"top\",0,vert_sep=2.0)\n",
    "film.write_xyz(\"film7.xyz\")\n",
    "mol4.displace_molecule([1.0,1.5,-5.0])\n",
    "film.write_xyz(\"film8.xyz\")\n",
    "film.enforce_mindist()\n",
    "film.write_xyz(\"film9.xyz\")"
   ]
  },
  {
   "cell_type": "markdown",
   "metadata": {},
   "source": [
    "#### Adds a TCNQ molecule"
   ]
  },
  {
   "cell_type": "code",
   "execution_count": 11,
   "metadata": {},
   "outputs": [],
   "source": [
    "nitrogen=AtomType(\"N\",\"nitrogen\",7,14.0067)   # Create a new AtomType object, for nitrogen, since TCNQ has nitrogen in its composition\n",
    "mol5=Molecule(\"TCNQ\",\"tcnq.xyz\")              # TCNQ molecule (coordinates taken from an .xyz file)\n",
    "film.remove_molecule(2)                       # Removes the first benzene molecule, id=2\n",
    "film.remove_molecule(3)                       # Removes the second benzene molecule, id=3\n",
    "film.add_molecule(mol5,\"top\",0,vert_sep=3)\n",
    "mol5.rotate_molecule(psi=90)                  # Rotates the molecule by 90 degrees around the Z axis\n",
    "film.write_xyz(\"film10.xyz\")"
   ]
  },
  {
   "cell_type": "code",
   "execution_count": null,
   "metadata": {},
   "outputs": [],
   "source": []
  }
 ],
 "metadata": {
  "kernelspec": {
   "display_name": "Python 3",
   "language": "python",
   "name": "python3"
  },
  "language_info": {
   "codemirror_mode": {
    "name": "ipython",
    "version": 3
   },
   "file_extension": ".py",
   "mimetype": "text/x-python",
   "name": "python",
   "nbconvert_exporter": "python",
   "pygments_lexer": "ipython3",
   "version": "3.7.6"
  }
 },
 "nbformat": 4,
 "nbformat_minor": 4
}
